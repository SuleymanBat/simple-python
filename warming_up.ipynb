{
  "nbformat": 4,
  "nbformat_minor": 0,
  "metadata": {
    "colab": {
      "name": "warming_up.ipynb",
      "provenance": [],
      "authorship_tag": "ABX9TyONdWaAr0MbR43WT3H7RdIJ",
      "include_colab_link": true
    },
    "kernelspec": {
      "name": "python3",
      "display_name": "Python 3"
    },
    "language_info": {
      "name": "python"
    }
  },
  "cells": [
    {
      "cell_type": "markdown",
      "metadata": {
        "id": "view-in-github",
        "colab_type": "text"
      },
      "source": [
        "<a href=\"https://colab.research.google.com/github/SuleymanBat/simple-python/blob/main/warming_up.ipynb\" target=\"_parent\"><img src=\"https://colab.research.google.com/assets/colab-badge.svg\" alt=\"Open In Colab\"/></a>"
      ]
    },
    {
      "cell_type": "markdown",
      "source": [
        "Task1.Given two lists, list1 and list2, write a program to create a third list l3 by picking an odd-index element from the list1 and even index elements from the list2.\n",
        "\n",
        "list1 = [3, 6, 9, 12, 15, 18, 21]    \n",
        "list2 = [4, 8, 12, 16, 20, 24, 28]\n"
      ],
      "metadata": {
        "id": "qvTqFkMMsOGq"
      }
    },
    {
      "cell_type": "code",
      "execution_count": 5,
      "metadata": {
        "colab": {
          "base_uri": "https://localhost:8080/"
        },
        "id": "wmzGyA9Wr3MA",
        "outputId": "0c94ec0b-cacb-4da2-90dd-2717fa96e0e2"
      },
      "outputs": [
        {
          "output_type": "execute_result",
          "data": {
            "text/plain": [
              "[6, 12, 18, 4, 12, 20, 28]"
            ]
          },
          "metadata": {},
          "execution_count": 5
        }
      ],
      "source": [
        "list1 = [3, 6, 9, 12, 15, 18, 21]\n",
        "list2 = [4, 8, 12, 16, 20, 24, 28]\n",
        "\n",
        "list3 = list1[1::2] + list2[0::2]\n",
        "list3"
      ]
    },
    {
      "cell_type": "code",
      "source": [
        "liste3 = []\n",
        "\n",
        "for i in range(7):\n",
        "  if i % 2 == 1 :\n",
        "    liste3 += [(list1[i])]\n",
        "  else:\n",
        "    liste3.append(list2[i])\n",
        "print(liste3)\n"
      ],
      "metadata": {
        "colab": {
          "base_uri": "https://localhost:8080/"
        },
        "id": "fB7qOaAjscPf",
        "outputId": "cde7790e-930f-4434-e1e2-67e23125b3a2"
      },
      "execution_count": 9,
      "outputs": [
        {
          "output_type": "stream",
          "name": "stdout",
          "text": [
            "[4, 6, 12, 12, 20, 18, 28]\n"
          ]
        }
      ]
    },
    {
      "cell_type": "markdown",
      "source": [
        "Task2. Write a program to iterate a given list and count the occurrence of each element and create a dictionary to show the count of each element. \n",
        "\n",
        "liste = [11, 45, 8, 11, 23, 45, 23, 45, 89] \n",
        "\n",
        "Printing count of each item {11: 2, 45: 3, 8: 1, 23: 2, 89: 1}\n"
      ],
      "metadata": {
        "id": "xlScuq29vHBx"
      }
    },
    {
      "cell_type": "code",
      "source": [
        "liste = [11, 45, 8, 11, 23, 45, 23, 45, 89]\n",
        "\n",
        "result = {}\n",
        "\n",
        "for i in liste:\n",
        "  result[i] = liste.count(i)\n",
        "print(result)\n"
      ],
      "metadata": {
        "colab": {
          "base_uri": "https://localhost:8080/"
        },
        "id": "zV6ywNBptyXj",
        "outputId": "342753e8-37ee-42e0-e22e-53baba21a1e2"
      },
      "execution_count": 10,
      "outputs": [
        {
          "output_type": "stream",
          "name": "stdout",
          "text": [
            "{11: 2, 45: 3, 8: 1, 23: 2, 89: 1}\n"
          ]
        }
      ]
    },
    {
      "cell_type": "code",
      "source": [
        "result2 = {}\n",
        "for i in liste:\n",
        "  if i in result2:\n",
        "    result2[i] += 1\n",
        "  else:\n",
        "    result2[i] = 1\n",
        "print(result2)"
      ],
      "metadata": {
        "colab": {
          "base_uri": "https://localhost:8080/"
        },
        "id": "NzaU3UPFxGLz",
        "outputId": "9dfe12c1-2680-4b4a-b9ea-fe595ba871ee"
      },
      "execution_count": 13,
      "outputs": [
        {
          "output_type": "stream",
          "name": "stdout",
          "text": [
            "{11: 2, 45: 3, 8: 1, 23: 2, 89: 1}\n"
          ]
        }
      ]
    },
    {
      "cell_type": "markdown",
      "source": [
        "Task3. Check if the first and last number of a list is the same Write a function to return True if the first and last number of a given list is same. If numbers are different then return False.\n",
        "\n",
        "num_x = [10, 20, 30, 40, 10] "
      ],
      "metadata": {
        "id": "kRhLxl5Jwm9u"
      }
    },
    {
      "cell_type": "code",
      "source": [
        "numx = [10, 20, 30, 40, 10] \n",
        "\n",
        "if numx[0] == numx[-1] :\n",
        "  print(True)\n",
        "else:\n",
        "  print(False)"
      ],
      "metadata": {
        "colab": {
          "base_uri": "https://localhost:8080/"
        },
        "id": "92l5eHYswUms",
        "outputId": "daaa6810-2ff3-4a6d-9831-57854fe21c79"
      },
      "execution_count": 14,
      "outputs": [
        {
          "output_type": "stream",
          "name": "stdout",
          "text": [
            "True\n"
          ]
        }
      ]
    },
    {
      "cell_type": "markdown",
      "source": [
        "Task4.Update set1 by adding items from set2, except common items. \n",
        "\n",
        "set1 = {10, 20, 30, 40, 50} \n",
        "set2 = {30, 40, 50, 60, 70}"
      ],
      "metadata": {
        "id": "qSOCsUO1yrsW"
      }
    },
    {
      "cell_type": "code",
      "source": [
        "set1 = {10, 20, 30, 40, 50} \n",
        "set2 = {30, 40, 50, 60, 70}\n",
        "\n",
        "set3 = (set1 | set2) - (set2 & set1)\n",
        "set3"
      ],
      "metadata": {
        "colab": {
          "base_uri": "https://localhost:8080/"
        },
        "id": "CmRn7q2syv8C",
        "outputId": "237681e3-ba75-4104-c691-4bc0f9b63d6f"
      },
      "execution_count": 19,
      "outputs": [
        {
          "output_type": "execute_result",
          "data": {
            "text/plain": [
              "{10, 20, 60, 70}"
            ]
          },
          "metadata": {},
          "execution_count": 19
        }
      ]
    },
    {
      "cell_type": "code",
      "source": [
        "set1 = {10, 20, 30, 40, 50} \n",
        "set2 = {30, 40, 50, 60, 70}\n",
        "set1.symmetric_difference(set2)\n"
      ],
      "metadata": {
        "colab": {
          "base_uri": "https://localhost:8080/"
        },
        "id": "O8HN4JXd3NHw",
        "outputId": "ade1b2a4-02a5-4ab4-b595-911c0e690de5"
      },
      "execution_count": 20,
      "outputs": [
        {
          "output_type": "execute_result",
          "data": {
            "text/plain": [
              "{10, 20, 60, 70}"
            ]
          },
          "metadata": {},
          "execution_count": 20
        }
      ]
    },
    {
      "cell_type": "markdown",
      "source": [
        "Task5. Write a program to calculate the sum of series up to n term. For example, if n =5 the series will become \n",
        "\n",
        "2 + 22 + 222 + 2222 + 22222 = 24690"
      ],
      "metadata": {
        "id": "YIUvk0Xg2__Q"
      }
    },
    {
      "cell_type": "code",
      "source": [
        "n = int(input())\n",
        "sum = 0\n",
        "for i in range(1, n+1) :\n",
        "  a = str(2) * i\n",
        "  sum += int(a)\n",
        "  print(a)\n",
        "print(sum)"
      ],
      "metadata": {
        "colab": {
          "base_uri": "https://localhost:8080/"
        },
        "id": "bIKglY9c1FQk",
        "outputId": "5c4a7c98-4764-4e1f-e090-4d0cef930536"
      },
      "execution_count": 22,
      "outputs": [
        {
          "output_type": "stream",
          "name": "stdout",
          "text": [
            "5\n",
            "2\n",
            "22\n",
            "222\n",
            "2222\n",
            "22222\n",
            "24690\n"
          ]
        }
      ]
    },
    {
      "cell_type": "markdown",
      "source": [
        "Task6. Create a Python set such that it shows the element from both lists in a pair. \n",
        "\n",
        "first_list = [2, 3, 4, 5, 6, 7, 8] second_list = [4, 9, 16, 25, 36, 49, 64]\n",
        "\n",
        "Expected Output:\n",
        "Result is {(6, 36), (8, 64), (4, 16), (5, 25), (3, 9), (7, 49), (2, 4)}\n"
      ],
      "metadata": {
        "id": "IWQ61tps5y2Z"
      }
    },
    {
      "cell_type": "code",
      "source": [
        "first_list = [2, 3, 4, 5, 6, 7, 8] \n",
        "second_list = [4, 9, 16, 25, 36, 49, 64]\n",
        "\n",
        "last = set(zip(first_list, second_list))\n",
        "print(last)"
      ],
      "metadata": {
        "colab": {
          "base_uri": "https://localhost:8080/"
        },
        "id": "R0dNFeB84Meh",
        "outputId": "34f96755-323a-4aca-c81c-87d713deb189"
      },
      "execution_count": 23,
      "outputs": [
        {
          "output_type": "stream",
          "name": "stdout",
          "text": [
            "{(6, 36), (8, 64), (4, 16), (5, 25), (3, 9), (7, 49), (2, 4)}\n"
          ]
        }
      ]
    },
    {
      "cell_type": "markdown",
      "source": [
        ""
      ],
      "metadata": {
        "id": "M7jbJSUR7NJK"
      }
    },
    {
      "cell_type": "code",
      "source": [
        ""
      ],
      "metadata": {
        "id": "-lnuqok_7HF-"
      },
      "execution_count": null,
      "outputs": []
    }
  ]
}