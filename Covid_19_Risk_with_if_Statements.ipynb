{
  "nbformat": 4,
  "nbformat_minor": 0,
  "metadata": {
    "colab": {
      "name": "Covid-19 Risk with if Statements.ipynb",
      "provenance": [],
      "authorship_tag": "ABX9TyP6YJ4ZqVzJzEpQmHv/VRX1",
      "include_colab_link": true
    },
    "kernelspec": {
      "name": "python3",
      "display_name": "Python 3"
    },
    "language_info": {
      "name": "python"
    }
  },
  "cells": [
    {
      "cell_type": "markdown",
      "metadata": {
        "id": "view-in-github",
        "colab_type": "text"
      },
      "source": [
        "<a href=\"https://colab.research.google.com/github/SuleymanBat/simple-python/blob/main/Covid_19_Risk_with_if_Statements.ipynb\" target=\"_parent\"><img src=\"https://colab.research.google.com/assets/colab-badge.svg\" alt=\"Open In Colab\"/></a>"
      ]
    },
    {
      "cell_type": "markdown",
      "source": [
        "**Problem** :\n",
        "\n",
        "**Task** : Estimating the risk of death from coronavirus. Write a program that;\n",
        "\n",
        "Takes \"Yes\" or \"No\" from the user as an answer to the following questions :\n",
        "\n",
        "Are you a cigarette addict older than 75 years old? Variable → age\n",
        "\n",
        "Do you have a severe chronic disease? Variable → chronic\n",
        "\n",
        "Is your immune system too weak? Variable → immune\n",
        "\n",
        "Set a logical algorithm using boolean logic operators (and/or) and use if-statements with the given variables in order to print out us a message : \"You are in risky group\"(if True ) or \"You are not in risky group\" (if False).\n",
        "age =  # can be assigned only True/False\n",
        "chronic =  # can be assigned only True/False\n",
        "immune =  # can be assigned only True/False\n",
        "risk = ?"
      ],
      "metadata": {
        "id": "ta3U9ufaYNHL"
      }
    },
    {
      "cell_type": "code",
      "source": [
        "age = input(\"Are you a cigarette addict older than 75 years old?: \").title().strip() \n",
        "chronic = input(\"Do you have a severe chronic disease?: \").title().strip()\n",
        "immune = input(\"Is your immune system too weak?: \").title().strip()\n",
        "\n",
        "if age == \"Yes\":\n",
        "    age = True\n",
        "else:\n",
        "    age = False\n",
        "if chronic == \"Yes\":\n",
        "    chronic = True\n",
        "else:\n",
        "    chronic = False\n",
        "if immune == \"Yes\":\n",
        "    immune = True\n",
        "else:\n",
        "    immune = False\n",
        "\n",
        "if age and chronic and immune:\n",
        "    print(\"You are in risky group\")\n",
        "elif age or chronic and immune:\n",
        "    print(\"You are in risky group\")\n",
        "else:\n",
        "  print(\"You are not in risky group\")"
      ],
      "metadata": {
        "colab": {
          "base_uri": "https://localhost:8080/"
        },
        "id": "D4m3fieHt1sc",
        "outputId": "9d7dcef3-3bc8-44d0-fe5a-deec28f42687"
      },
      "execution_count": 143,
      "outputs": [
        {
          "output_type": "stream",
          "name": "stdout",
          "text": [
            "Are you a cigarette addict older than 75 years old?: no\n",
            "Do you have a severe chronic disease?: no\n",
            "Is your immune system too weak?: yes\n",
            "You are not in risky group\n"
          ]
        }
      ]
    },
    {
      "cell_type": "code",
      "source": [
        ""
      ],
      "metadata": {
        "id": "suEowxmw4d2O"
      },
      "execution_count": null,
      "outputs": []
    }
  ]
}