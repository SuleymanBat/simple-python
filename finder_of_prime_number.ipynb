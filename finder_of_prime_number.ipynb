{
  "nbformat": 4,
  "nbformat_minor": 0,
  "metadata": {
    "colab": {
      "name": "finder_of_prime_number.ipynb",
      "provenance": [],
      "authorship_tag": "ABX9TyMtUcbupWDSnz0W66w9W9qe",
      "include_colab_link": true
    },
    "kernelspec": {
      "name": "python3",
      "display_name": "Python 3"
    },
    "language_info": {
      "name": "python"
    }
  },
  "cells": [
    {
      "cell_type": "markdown",
      "metadata": {
        "id": "view-in-github",
        "colab_type": "text"
      },
      "source": [
        "<a href=\"https://colab.research.google.com/github/SuleymanBat/simple-python/blob/main/finder_of_prime_number.ipynb\" target=\"_parent\"><img src=\"https://colab.research.google.com/assets/colab-badge.svg\" alt=\"Open In Colab\"/></a>"
      ]
    },
    {
      "cell_type": "markdown",
      "source": [
        "# **Task** : \n",
        "Write a program that takes a number from the user and prints the result to check if it is a prime number.\n",
        "\n",
        "The examples of the desired output are as follows :\n",
        "\n",
        "input →  19 ⇉ output : 19 is a prime number\n",
        "\n",
        "input →  10 ⇉ output : 10 is not a prime number"
      ],
      "metadata": {
        "id": "g0ss_fYfRyTI"
      }
    },
    {
      "cell_type": "code",
      "execution_count": 122,
      "metadata": {
        "colab": {
          "base_uri": "https://localhost:8080/"
        },
        "id": "PxJbgHGgRwqY",
        "outputId": "67911a64-a555-4551-98ed-40d70904da1e"
      },
      "outputs": [
        {
          "output_type": "stream",
          "name": "stdout",
          "text": [
            "Could you please say to me a random number : 17\n",
            "17 is a prime number\n"
          ]
        }
      ],
      "source": [
        "i = int(input(\"Could you please say to me a random number : \"))\n",
        "\n",
        "jaw = 0\n",
        "for k in range(2,i) :\n",
        "  if i % k == 0:\n",
        "    jaw =jaw + 1\n",
        "    break\n",
        "if jaw == 0:\n",
        "  print(i, \"is a prime number\")\n",
        "else:\n",
        "  print(i, \"is not a prime number\")\n",
        "\n",
        "\n",
        "  \n",
        "\n",
        "\n",
        "\n",
        "\n",
        "\n",
        "\n",
        "\n",
        "\n"
      ]
    },
    {
      "cell_type": "code",
      "source": [
        ""
      ],
      "metadata": {
        "id": "ABvxdhbu23Gn"
      },
      "execution_count": null,
      "outputs": []
    }
  ]
}