{
  "nbformat": 4,
  "nbformat_minor": 0,
  "metadata": {
    "colab": {
      "name": "Password Reminder.ipynb",
      "provenance": [],
      "authorship_tag": "ABX9TyObFrPqu1NwaPcuKx7rV9N0",
      "include_colab_link": true
    },
    "kernelspec": {
      "name": "python3",
      "display_name": "Python 3"
    },
    "language_info": {
      "name": "python"
    }
  },
  "cells": [
    {
      "cell_type": "markdown",
      "metadata": {
        "id": "view-in-github",
        "colab_type": "text"
      },
      "source": [
        "<a href=\"https://colab.research.google.com/github/SuleymanBat/simple-python/blob/main/Password_Reminder.ipynb\" target=\"_parent\"><img src=\"https://colab.research.google.com/assets/colab-badge.svg\" alt=\"Open In Colab\"/></a>"
      ]
    },
    {
      "cell_type": "markdown",
      "source": [
        "**Task** : \n",
        "Let's say; you left a message in the past that prints a password you need. To see the password you wrote, you need to enter your name and the program should recognize you.\n",
        "Write a program that \n",
        "\n",
        "1.Takes the first name from the user and compares it to yours,\n",
        "\n",
        "2.Then if the name the user entered is the same as yours, print out such as : \"Hello, Joseph! The password is : W@12\",\n",
        "\n",
        "3.If the name the user entered is not the same as yours, print out such as : \"Hello, Amina! See you later.\""
      ],
      "metadata": {
        "id": "nXuhlx-LSx39"
      }
    },
    {
      "cell_type": "code",
      "execution_count": 1,
      "metadata": {
        "colab": {
          "base_uri": "https://localhost:8080/"
        },
        "id": "nzVom8loSuaZ",
        "outputId": "8082a666-c19a-497b-9aab-07eb8a1b9542"
      },
      "outputs": [
        {
          "output_type": "stream",
          "name": "stdout",
          "text": [
            "what is your fist name?: ANDERS\n",
            "Hello, Amina!See you later.\n"
          ]
        }
      ],
      "source": [
        "name = input('what is your fist name?: ').title().strip()\n",
        "\n",
        "if name == 'Sulo':\n",
        "  print(\"Hello, Sulo! The password is : W@12\")\n",
        "elif name != \"Sulo\":\n",
        "  print(\"Hello, Amina!See you later.\")"
      ]
    },
    {
      "cell_type": "code",
      "source": [
        ""
      ],
      "metadata": {
        "id": "TCUqBYkNTNXu"
      },
      "execution_count": null,
      "outputs": []
    }
  ]
}