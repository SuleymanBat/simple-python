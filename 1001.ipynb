{
 "cells": [
  {
   "cell_type": "markdown",
   "id": "de7a8fab",
   "metadata": {},
   "source": [
    "## Return the Next Number from the Integer Passed\n",
    "\n",
    "## Create a function that takes a number as an argument, increments the number by +1 and returns the result.\n",
    "\n",
    "Examples\n",
    "addition(0) ➞ 1\n",
    "\n",
    "addition(9) ➞ 10\n",
    "\n",
    "addition(-3) ➞ -2"
   ]
  },
  {
   "cell_type": "code",
   "execution_count": 1,
   "id": "23c90cfe",
   "metadata": {},
   "outputs": [],
   "source": [
    "def addition(num):\n",
    "    return num + 1"
   ]
  },
  {
   "cell_type": "code",
   "execution_count": 2,
   "id": "c1c7e04c",
   "metadata": {},
   "outputs": [
    {
     "data": {
      "text/plain": [
       "24"
      ]
     },
     "execution_count": 2,
     "metadata": {},
     "output_type": "execute_result"
    }
   ],
   "source": [
    "addition(23)"
   ]
  },
  {
   "cell_type": "code",
   "execution_count": 3,
   "id": "0b9388c4",
   "metadata": {},
   "outputs": [
    {
     "data": {
      "text/plain": [
       "112"
      ]
     },
     "execution_count": 3,
     "metadata": {},
     "output_type": "execute_result"
    }
   ],
   "source": [
    "addition(111)"
   ]
  },
  {
   "cell_type": "markdown",
   "id": "50989081",
   "metadata": {},
   "source": [
    "## Write a function that converts hours into seconds.\n",
    "\n",
    "Examples\n",
    "how_many_seconds(2) ➞ 7200\n",
    "\n",
    "how_many_seconds(10) ➞ 36000\n",
    "\n",
    "how_many_seconds(24) ➞ 86400\n",
    "\n",
    "Notes\n",
    "\n",
    "60 seconds in a minute, 60 minutes in an hour\n"
   ]
  },
  {
   "cell_type": "code",
   "execution_count": 4,
   "id": "3c4d9f8b",
   "metadata": {},
   "outputs": [],
   "source": [
    "def convert(hour):\n",
    "    return hour*60*60"
   ]
  },
  {
   "cell_type": "code",
   "execution_count": 5,
   "id": "01a1d442",
   "metadata": {},
   "outputs": [
    {
     "data": {
      "text/plain": [
       "7200"
      ]
     },
     "execution_count": 5,
     "metadata": {},
     "output_type": "execute_result"
    }
   ],
   "source": [
    "convert(2)"
   ]
  },
  {
   "cell_type": "code",
   "execution_count": 6,
   "id": "564733aa",
   "metadata": {},
   "outputs": [
    {
     "data": {
      "text/plain": [
       "86400"
      ]
     },
     "execution_count": 6,
     "metadata": {},
     "output_type": "execute_result"
    }
   ],
   "source": [
    "convert(24)"
   ]
  },
  {
   "cell_type": "markdown",
   "id": "e36839bc",
   "metadata": {},
   "source": [
    "## Create a function that takes length and width and finds the perimeter of a rectangle.\n",
    "\n",
    "Examples\n",
    "\n",
    "find_perimeter(6, 7) ➞ 26\n",
    "\n",
    "find_perimeter(20, 10) ➞ 60\n",
    "\n",
    "find_perimeter(2, 9) ➞ 22\n",
    "\n",
    "Notes\n",
    "\n",
    "Don't forget to return the result."
   ]
  },
  {
   "cell_type": "code",
   "execution_count": 7,
   "id": "21e30745",
   "metadata": {},
   "outputs": [],
   "source": [
    "def perimeter(leng,wid):\n",
    "    return (leng+wid)*2"
   ]
  },
  {
   "cell_type": "code",
   "execution_count": 8,
   "id": "40b17f09",
   "metadata": {},
   "outputs": [
    {
     "data": {
      "text/plain": [
       "60"
      ]
     },
     "execution_count": 8,
     "metadata": {},
     "output_type": "execute_result"
    }
   ],
   "source": [
    "perimeter(10,20)"
   ]
  },
  {
   "cell_type": "code",
   "execution_count": 10,
   "id": "80f3d9b8",
   "metadata": {},
   "outputs": [
    {
     "data": {
      "text/plain": [
       "66"
      ]
     },
     "execution_count": 10,
     "metadata": {},
     "output_type": "execute_result"
    }
   ],
   "source": [
    "perimeter(11,22)"
   ]
  },
  {
   "cell_type": "markdown",
   "id": "08ff8714",
   "metadata": {},
   "source": [
    "## Create a function that takes a boolean variable flag and returns it as a string.\n",
    "\n",
    "Examples\n",
    "bool_to_string(True) ➞ \"True\"\n",
    "\n",
    "bool_to_string(False) ➞ \"False\""
   ]
  },
  {
   "cell_type": "code",
   "execution_count": 11,
   "id": "85929b65",
   "metadata": {},
   "outputs": [],
   "source": [
    "def change(flag):\n",
    "    return str(flag)"
   ]
  },
  {
   "cell_type": "code",
   "execution_count": 12,
   "id": "1fe71b29",
   "metadata": {},
   "outputs": [
    {
     "data": {
      "text/plain": [
       "'15'"
      ]
     },
     "execution_count": 12,
     "metadata": {},
     "output_type": "execute_result"
    }
   ],
   "source": [
    "change(15)"
   ]
  },
  {
   "cell_type": "code",
   "execution_count": 14,
   "id": "7108eed3",
   "metadata": {},
   "outputs": [
    {
     "data": {
      "text/plain": [
       "'28'"
      ]
     },
     "execution_count": 14,
     "metadata": {},
     "output_type": "execute_result"
    }
   ],
   "source": [
    "change(28)"
   ]
  },
  {
   "cell_type": "markdown",
   "id": "7edfb88b",
   "metadata": {},
   "source": [
    "## Create a function that takes the number of wins, draws and losses and calculates the number of points a football team has obtained so far.\n",
    "\n",
    "wins get 3 points\n",
    "draws get 1 point\n",
    "losses get 0 points\n",
    "\n",
    "Examples\n",
    "football_points(3, 4, 2) ➞ 13\n",
    "\n",
    "football_points(5, 0, 2) ➞ 15\n",
    "\n",
    "football_points(0, 0, 1) ➞ 0\n",
    "\n",
    "Notes\n",
    "Inputs will be numbers greater than or equal to 0."
   ]
  },
  {
   "cell_type": "code",
   "execution_count": 16,
   "id": "65fa6372",
   "metadata": {},
   "outputs": [],
   "source": [
    "def football_points(wins,draws,losses):\n",
    "    return (wins*3)+(draws*2)+(losses*0)"
   ]
  },
  {
   "cell_type": "code",
   "execution_count": 17,
   "id": "00a73c0c",
   "metadata": {},
   "outputs": [
    {
     "data": {
      "text/plain": [
       "25"
      ]
     },
     "execution_count": 17,
     "metadata": {},
     "output_type": "execute_result"
    }
   ],
   "source": [
    "football_points(5,5,9)"
   ]
  },
  {
   "cell_type": "code",
   "execution_count": 18,
   "id": "ac3ac720",
   "metadata": {},
   "outputs": [
    {
     "data": {
      "text/plain": [
       "34"
      ]
     },
     "execution_count": 18,
     "metadata": {},
     "output_type": "execute_result"
    }
   ],
   "source": [
    "football_points(10,2,4)"
   ]
  },
  {
   "cell_type": "markdown",
   "id": "a3a98146",
   "metadata": {},
   "source": [
    "## Create a function that takes a base number and an exponent number and returns the calculation.\n",
    "\n",
    "Examples\n",
    "calculate_exponent(5, 5) ➞ 3125\n",
    "\n",
    "calculate_exponent(10, 10) ➞ 10000000000\n",
    "\n",
    "calculate_exponent(3, 3) ➞ 27"
   ]
  },
  {
   "cell_type": "code",
   "execution_count": 20,
   "id": "600c52f9",
   "metadata": {},
   "outputs": [],
   "source": [
    "def calculate_exponent(num, exp):\n",
    "    return num**exp"
   ]
  },
  {
   "cell_type": "code",
   "execution_count": 21,
   "id": "a67c5fc3",
   "metadata": {},
   "outputs": [
    {
     "data": {
      "text/plain": [
       "64"
      ]
     },
     "execution_count": 21,
     "metadata": {},
     "output_type": "execute_result"
    }
   ],
   "source": [
    "calculate_exponent(4,3)"
   ]
  },
  {
   "cell_type": "code",
   "execution_count": 23,
   "id": "7fe79f1f",
   "metadata": {},
   "outputs": [
    {
     "data": {
      "text/plain": [
       "1331"
      ]
     },
     "execution_count": 23,
     "metadata": {},
     "output_type": "execute_result"
    }
   ],
   "source": [
    "calculate_exponent(11,3)"
   ]
  },
  {
   "cell_type": "code",
   "execution_count": null,
   "id": "55574ac7",
   "metadata": {},
   "outputs": [],
   "source": []
  }
 ],
 "metadata": {
  "kernelspec": {
   "display_name": "Python 3 (ipykernel)",
   "language": "python",
   "name": "python3"
  },
  "language_info": {
   "codemirror_mode": {
    "name": "ipython",
    "version": 3
   },
   "file_extension": ".py",
   "mimetype": "text/x-python",
   "name": "python",
   "nbconvert_exporter": "python",
   "pygments_lexer": "ipython3",
   "version": "3.8.10"
  }
 },
 "nbformat": 4,
 "nbformat_minor": 5
}
